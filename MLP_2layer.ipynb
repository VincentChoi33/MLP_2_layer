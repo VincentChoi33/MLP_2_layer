{
 "cells": [
  {
   "cell_type": "markdown",
   "metadata": {},
   "source": [
    "Problem\n",
    "\n",
    "\n",
    "Construct 2-layer perceptron with MNIST data set from Kaggle.\n",
    "\n",
    "\n",
    "Use ReLU as activation function, softmax to classify, cross entroy as cost function\n",
    "\n",
    "The goal is to take an image of a handwritten single digit, and determine what that digit is.\n",
    "\n",
    "\n",
    "For every in the test set, you should predict the correct label."
   ]
  },
  {
   "cell_type": "code",
   "execution_count": 11,
   "metadata": {},
   "outputs": [],
   "source": [
    "import numpy as np\n",
    "import pandas as pd\n",
    "import random\n",
    "import matplotlib.pyplot as plt"
   ]
  },
  {
   "cell_type": "code",
   "execution_count": 12,
   "metadata": {},
   "outputs": [],
   "source": [
    "train=pd.read_csv('train.csv')\n",
    "test= pd.read_csv('test.csv')"
   ]
  },
  {
   "cell_type": "code",
   "execution_count": 13,
   "metadata": {},
   "outputs": [],
   "source": [
    "Label = train['label'].values\n",
    "Train = train.drop(columns=['label']).values/255\n",
    "Test = test.values/255\n",
    "[N,size_input]=Train.shape"
   ]
  },
  {
   "cell_type": "code",
   "execution_count": 14,
   "metadata": {},
   "outputs": [],
   "source": [
    "def ReLU(x):\n",
    "    return np.maximum(0,x)\n",
    "\n",
    "def d_ReLU(x):\n",
    "    return x>0"
   ]
  },
  {
   "cell_type": "code",
   "execution_count": 15,
   "metadata": {},
   "outputs": [],
   "source": [
    "def loss(pred,Label):\n",
    "    true = np.eye(num_class)[Label]\n",
    "    loss = (np.log(pred) * true).sum(axis=1)\n",
    "    return -np.sum(loss)"
   ]
  },
  {
   "cell_type": "code",
   "execution_count": 16,
   "metadata": {},
   "outputs": [],
   "source": [
    "def feed(Input,Matrix,bias):\n",
    "    Hidden = np.dot(Input, Matrix[0]) + bias[0]\n",
    "    z_1=Hidden\n",
    "    \n",
    "    Activation = ReLU(z_1)\n",
    "    z_2=np.dot(Activation,Matrix[1])\n",
    "    \n",
    "    #Softmax Part\n",
    "    s=np.exp(z_2)\n",
    "    total = np.sum(s, axis=1).reshape(-1,1)\n",
    "    Output = s/total\n",
    "    return Output,Activation,z_1"
   ]
  },
  {
   "cell_type": "code",
   "execution_count": 17,
   "metadata": {},
   "outputs": [],
   "source": [
    "def backprop(Matrix,bias,Input,Label):\n",
    "    #step 1\n",
    "    Output,Activate_1,z_1 = feed(Input,Matrix,bias)\n",
    "    \n",
    "    #step 2 Output from Hidden derivative\n",
    "    true = np.eye(num_class)[Label]\n",
    "    # \\part cost / \\part z_2 is delta _ H2O\n",
    "    # \\part z_2  / \\part Matrix[1] is grad_H2O\n",
    "    delta_H2O = (Output -true)\n",
    "    grad_H2O = np.dot(Activate_1.T, delta_H2O)\n",
    "    \n",
    "    #step 3 Hidden from Input derivative\n",
    "    delta_I2H = np.dot(delta_H2O, Matrix[1].T)*d_ReLU(z_1)\n",
    "    grad_I2H = np.dot(Input.T, delta_I2H)\n",
    "    \n",
    "    dMatrix = [grad_I2H/N, grad_H2O/N]\n",
    "    dbias = [np.mean(delta_I2H, axis=0)]\n",
    "    return dMatrix, dbias"
   ]
  },
  {
   "cell_type": "markdown",
   "metadata": {},
   "source": [
    "Gradient descent optimization"
   ]
  },
  {
   "cell_type": "code",
   "execution_count": 18,
   "metadata": {},
   "outputs": [],
   "source": [
    "def update (W,b,Train,Label):\n",
    "    dW, db = backprop(W,b,Train,Label)\n",
    "    W[0]             -= 0.1 * dW[0]\n",
    "    W[1]             -= 0.1 * dW[1]\n",
    "    b[0]             -= 0.1 * db[0]"
   ]
  },
  {
   "cell_type": "code",
   "execution_count": 19,
   "metadata": {},
   "outputs": [],
   "source": [
    "num_class=10\n",
    "num_iter = 500\n",
    "num_Hidden = 256\n",
    "\n",
    "np.random.seed(1127) #for the experimental stability\n",
    "#W[0]= Matrix_input_to_Hidden_layer, W[1]= MAtrix_Hidden_to_output_layer\n",
    "W1= [1e-1*np.random.randn(size_input, num_Hidden), 1e-1*np.random.randn(num_Hidden, num_class)]\n",
    "b1 = [np.random.randn(num_Hidden)]"
   ]
  },
  {
   "cell_type": "code",
   "execution_count": 20,
   "metadata": {},
   "outputs": [
    {
     "name": "stdout",
     "output_type": "stream",
     "text": [
      "Cross-entropy loss after 1 iterations is 108433.42\n",
      "Training accuracy after 1 iterations is 17.2643%\n",
      "\n",
      "Cross-entropy loss after 101 iterations is 18009.91\n",
      "Training accuracy after 101 iterations is 88.2000%\n",
      "\n",
      "Cross-entropy loss after 201 iterations is 14577.156\n",
      "Training accuracy after 201 iterations is 90.2048%\n",
      "\n",
      "Cross-entropy loss after 301 iterations is 13023.488\n",
      "Training accuracy after 301 iterations is 91.2143%\n",
      "\n",
      "Cross-entropy loss after 401 iterations is 12012.569\n",
      "Training accuracy after 401 iterations is 91.8452%\n",
      "\n",
      "Final cross-entropy loss is 11252.254\n",
      "Final training accuracy is 92.3619%\n",
      "CPU times: user 20min 27s, sys: 1min 6s, total: 21min 33s\n",
      "Wall time: 3min 36s\n"
     ]
    }
   ],
   "source": [
    "%%time\n",
    "for i in range(num_iter):\n",
    "    update(W1,b1,Train,Label)\n",
    "    \n",
    "    if i % (num_iter/5) == 0:\n",
    "        # sanity check 1\n",
    "        prediction,_,_ = feed(Train,W1,b1)\n",
    "        print(\"Cross-entropy loss after\", i+1, \"iterations is {:.8}\".format(loss(prediction,Label)))\n",
    "        print(\"Training accuracy after\", i+1, \"iterations is {:.4%}\\n\".format(np.mean(np.argmax(prediction, axis=1)== Label)))\n",
    "\n",
    "Final_after_backpropa,_,_ = feed(Train,W1,b1)\n",
    "print(\"Final cross-entropy loss is {:.8}\".format(loss(Final_after_backpropa,Label)))\n",
    "print(\"Final training accuracy is {:.4%}\".format(np.mean(np.argmax(Final_after_backpropa, axis=1)== Label)))"
   ]
  },
  {
   "cell_type": "code",
   "execution_count": 57,
   "metadata": {},
   "outputs": [
    {
     "data": {
      "image/png": "[encoded data removed]",
      "text/plain": [
       "<Figure size 864x360 with 10 Axes>"
      ]
     },
     "metadata": {
      "needs_background": "light"
     },
     "output_type": "display_data"
    }
   ],
   "source": [
    "#eye check train set\n",
    "fig, axes = plt.subplots(2,5, figsize=(12,5))\n",
    "axes = axes.flatten()\n",
    "idx = np.random.randint(0,N,size=10)\n",
    "for i in range(10):\n",
    "    axes[i].imshow(Train[idx[i],:].reshape(28,28), cmap='gray')\n",
    "    axes[i].axis('off') # hide the axes ticks\n",
    "    axes[i].set_title(str(int(Label[idx[i]])), color= 'black',loc='left' ,fontsize=15)\n",
    "    axes[i].set_title(\"<-real vs pred ->\",color='black',fontsize=10)\n",
    "    axes[i].set_title(str(int(np.argmax(Final_after_backpropa, axis=1)[idx[i]])),color='black',loc='right',fontsize=15)\n",
    "plt.show()"
   ]
  },
  {
   "cell_type": "code",
   "execution_count": 58,
   "metadata": {},
   "outputs": [],
   "source": [
    "#for the test set\n",
    "Test_submission,_,_ = feed(Test,W1,b1)"
   ]
  },
  {
   "cell_type": "code",
   "execution_count": 59,
   "metadata": {},
   "outputs": [],
   "source": [
    "M,_=Test.shape"
   ]
  },
  {
   "cell_type": "code",
   "execution_count": 64,
   "metadata": {},
   "outputs": [
    {
     "data": {
      "image/png": "[encoded data removed]",
      "text/plain": [
       "<Figure size 864x360 with 10 Axes>"
      ]
     },
     "metadata": {
      "needs_background": "light"
     },
     "output_type": "display_data"
    }
   ],
   "source": [
    "#We don't have test label. So, just for eye check.\n",
    "fig, axes = plt.subplots(2,5, figsize=(12,5))\n",
    "axes = axes.flatten()\n",
    "idx = np.random.randint(0,M,size=10)\n",
    "for i in range(10):\n",
    "    axes[i].imshow(Test[idx[i],:].reshape(28,28), cmap='gray')\n",
    "    axes[i].axis('off') # hide the axes ticks\n",
    "    axes[i].set_title(\"pred : \",color='black',fontsize=15)\n",
    "    axes[i].set_title(str(int(np.argmax(Test_submission, axis=1)[idx[i]])),color='black',loc='right',fontsize=15)\n",
    "plt.show()"
   ]
  },
  {
   "cell_type": "code",
   "execution_count": 68,
   "metadata": {},
   "outputs": [],
   "source": [
    "submission = pd.DataFrame({'ImageId': range(1,len(Test)+1) ,'Label': np.argmax(Test_submission,axis=1) })\n",
    "submission.to_csv(\"Name_ID_Gradient_result.csv\",index=False)\n",
    "#then you can create Submission file!"
   ]
  },
  {
   "cell_type": "markdown",
   "metadata": {},
   "source": [
    "Momentum optimization\n"
   ]
  },
  {
   "cell_type": "code",
   "execution_count": 69,
   "metadata": {},
   "outputs": [],
   "source": [
    "num_class=10\n",
    "num_iter = 100\n",
    "num_Hidden = 256\n",
    "Momentum=0.9\n",
    "\n",
    "np.random.seed(1127)\n",
    "W3 = [1e-1*np.random.randn(size_input, num_Hidden), 1e-1*np.random.randn(num_Hidden, num_class)]\n",
    "b3 = [np.random.randn(num_Hidden)]"
   ]
  },
  {
   "cell_type": "code",
   "execution_count": 70,
   "metadata": {},
   "outputs": [],
   "source": [
    "def Momentum_update(W,b,Train,Label,gamma_w0,gamma_w1,gamma_b):\n",
    "    dW, db = backprop(W,b,Train,Label)\n",
    "    \n",
    "    gamma_w0 = Momentum*gamma_w0+0.1*dW[0]\n",
    "    W[0] -= gamma_w0\n",
    "    \n",
    "    gamma_w1 = Momentum*gamma_w1+0.1*dW[1]\n",
    "    W[1] -= gamma_w1\n",
    "    \n",
    "    gamma_b = Momentum*gamma_b+0.1*db[0]\n",
    "    b[0] -= gamma_b"
   ]
  },
  {
   "cell_type": "code",
   "execution_count": 71,
   "metadata": {},
   "outputs": [
    {
     "name": "stdout",
     "output_type": "stream",
     "text": [
      "Cross-entropy loss after 1 iterations is 108433.42\n",
      "Training accuracy after 1 iterations is 17.2643%\n",
      "\n",
      "Cross-entropy loss after 21 iterations is 34650.181\n",
      "Training accuracy after 21 iterations is 78.7714%\n",
      "\n",
      "Cross-entropy loss after 41 iterations is 25503.034\n",
      "Training accuracy after 41 iterations is 84.1000%\n",
      "\n",
      "Cross-entropy loss after 61 iterations is 21643.178\n",
      "Training accuracy after 61 iterations is 86.1929%\n",
      "\n",
      "Cross-entropy loss after 81 iterations is 19451.352\n",
      "Training accuracy after 81 iterations is 87.3667%\n",
      "\n",
      "Final cross-entropy loss is 18070.51\n",
      "Final training accuracy is 88.1476%\n",
      "CPU times: user 4min 28s, sys: 16 s, total: 4min 44s\n",
      "Wall time: 47.8 s\n"
     ]
    }
   ],
   "source": [
    "%%time\n",
    "gamma_w0=0\n",
    "gamma_w1=0\n",
    "gamma_b=0\n",
    "for i in range(num_iter):\n",
    "    Momentum_update(W3,b3,Train,Label,gamma_w0,gamma_w1,gamma_b)\n",
    "    if i % (num_iter/5) == 0:\n",
    "        # sanity check 1\n",
    "        prediction,_,_ = feed(Train,W3,b3)\n",
    "        print(\"Cross-entropy loss after\", i+1, \"iterations is {:.8}\".format(loss(prediction,Label)))\n",
    "        print(\"Training accuracy after\", i+1, \"iterations is {:.4%}\\n\".format(np.mean(np.argmax(prediction, axis=1)== Label)))\n",
    "\n",
    "Final_after_backpropa,_,_ = feed(Train,W3,b3)\n",
    "print(\"Final cross-entropy loss is {:.8}\".format(loss(Final_after_backpropa,Label)))\n",
    "print(\"Final training accuracy is {:.4%}\".format(np.mean(np.argmax(Final_after_backpropa, axis=1)== Label)))"
   ]
  },
  {
   "cell_type": "code",
   "execution_count": 72,
   "metadata": {},
   "outputs": [
    {
     "data": {
      "image/png": "[encoded data removed]",
      "text/plain": [
       "<Figure size 864x360 with 10 Axes>"
      ]
     },
     "metadata": {
      "needs_background": "light"
     },
     "output_type": "display_data"
    }
   ],
   "source": [
    "#eye check train set\n",
    "fig, axes = plt.subplots(2,5, figsize=(12,5))\n",
    "axes = axes.flatten()\n",
    "idx = np.random.randint(0,N,size=10)\n",
    "for i in range(10):\n",
    "    axes[i].imshow(Train[idx[i],:].reshape(28,28), cmap='gray')\n",
    "    axes[i].axis('off') # hide the axes ticks\n",
    "    axes[i].set_title(str(int(Label[idx[i]])), color= 'black',loc='left' ,fontsize=15)\n",
    "    axes[i].set_title(\"<-real vs pred ->\",color='black',fontsize=10)\n",
    "    axes[i].set_title(str(int(np.argmax(Final_after_backpropa, axis=1)[idx[i]])),color='black',loc='right',fontsize=15)\n",
    "plt.show()"
   ]
  },
  {
   "cell_type": "code",
   "execution_count": 74,
   "metadata": {},
   "outputs": [],
   "source": [
    "Test_submission_Momentum,_,_ = feed(Test,W3,b3)"
   ]
  },
  {
   "cell_type": "code",
   "execution_count": 75,
   "metadata": {},
   "outputs": [
    {
     "data": {
      "image/png": "[encoded data removed]",
      "text/plain": [
       "<Figure size 864x360 with 10 Axes>"
      ]
     },
     "metadata": {
      "needs_background": "light"
     },
     "output_type": "display_data"
    }
   ],
   "source": [
    "#We don't have test label. So, just for eye check.\n",
    "fig, axes = plt.subplots(2,5, figsize=(12,5))\n",
    "axes = axes.flatten()\n",
    "idx = np.random.randint(0,M,size=10)\n",
    "for i in range(10):\n",
    "    axes[i].imshow(Test[idx[i],:].reshape(28,28), cmap='gray')\n",
    "    axes[i].axis('off') # hide the axes ticks\n",
    "    axes[i].set_title(\"pred : \",color='black',fontsize=15)\n",
    "    axes[i].set_title(str(int(np.argmax(Test_submission_Momentum, axis=1)[idx[i]])),color='black',loc='right',fontsize=15)\n",
    "plt.show()"
   ]
  },
  {
   "cell_type": "code",
   "execution_count": 76,
   "metadata": {},
   "outputs": [],
   "source": [
    "submission = pd.DataFrame({'ImageId': range(1,len(Test)+1) ,'Label': np.argmax(Test_submission,axis=1) })\n",
    "submission.to_csv(\"Name_ID_Momentum_result.csv\",index=False)\n",
    "#then you can create Submission file!"
   ]
  },
  {
   "cell_type": "code",
   "execution_count": null,
   "metadata": {},
   "outputs": [],
   "source": []
  }
 ],
 "metadata": {
  "kernelspec": {
   "display_name": "Python 3",
   "language": "python",
   "name": "python3"
  },
  "language_info": {
   "codemirror_mode": {
    "name": "ipython",
    "version": 3
   },
   "file_extension": ".py",
   "mimetype": "text/x-python",
   "name": "python",
   "nbconvert_exporter": "python",
   "pygments_lexer": "ipython3",
   "version": "3.7.5"
  }
 },
 "nbformat": 4,
 "nbformat_minor": 4
}
